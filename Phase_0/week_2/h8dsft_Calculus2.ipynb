{
 "cells": [
  {
   "cell_type": "markdown",
   "metadata": {},
   "source": [
    "# Non-graded Challenge 8"
   ]
  },
  {
   "cell_type": "markdown",
   "metadata": {},
   "source": [
    "Carilah integral dari sebuah fungsi:\n",
    "\n",
    "$\\int  (3x^{2}-6x+3) , \\mathrm{d}x.$\n",
    "\n",
    "$\\int  (8x^{3}-x^{2}+5x-1) , \\mathrm{d}x.$"
   ]
  },
  {
   "cell_type": "markdown",
   "metadata": {},
   "source": [
    "## simbolik"
   ]
  },
  {
   "cell_type": "code",
   "execution_count": 13,
   "metadata": {},
   "outputs": [],
   "source": [
    "# immport library yang dibutuhkan\n",
    "import numpy as np\n",
    "import sympy as sy\n",
    "from scipy import integrate"
   ]
  },
  {
   "cell_type": "code",
   "execution_count": 3,
   "metadata": {},
   "outputs": [
    {
     "data": {
      "text/latex": [
       "$\\displaystyle x$"
      ],
      "text/plain": [
       "x"
      ]
     },
     "execution_count": 3,
     "metadata": {},
     "output_type": "execute_result"
    }
   ],
   "source": [
    "#buat simbol x\n",
    "x = sy.Symbol('x')\n",
    "x"
   ]
  },
  {
   "cell_type": "code",
   "execution_count": 4,
   "metadata": {},
   "outputs": [],
   "source": [
    "#membuat fungsi f1 dan f2\n",
    "f1 = 3*x**2 - 6*x + 3\n",
    "f2 = 8*x**3 + x**2 + 5*x +1"
   ]
  },
  {
   "cell_type": "code",
   "execution_count": 5,
   "metadata": {},
   "outputs": [
    {
     "data": {
      "text/latex": [
       "$\\displaystyle 3 x^{2} - 6 x + 3$"
      ],
      "text/plain": [
       "3*x**2 - 6*x + 3"
      ]
     },
     "execution_count": 5,
     "metadata": {},
     "output_type": "execute_result"
    }
   ],
   "source": [
    "#melihat hasil dari fungsi f1\n",
    "f1"
   ]
  },
  {
   "cell_type": "code",
   "execution_count": 6,
   "metadata": {},
   "outputs": [
    {
     "data": {
      "text/latex": [
       "$\\displaystyle 8 x^{3} + x^{2} + 5 x + 1$"
      ],
      "text/plain": [
       "8*x**3 + x**2 + 5*x + 1"
      ]
     },
     "execution_count": 6,
     "metadata": {},
     "output_type": "execute_result"
    }
   ],
   "source": [
    "#melihat hasil dari fungsi f2\n",
    "f2"
   ]
  },
  {
   "cell_type": "code",
   "execution_count": 7,
   "metadata": {},
   "outputs": [
    {
     "data": {
      "text/latex": [
       "$\\displaystyle x^{3} - 3 x^{2} + 3 x$"
      ],
      "text/plain": [
       "x**3 - 3*x**2 + 3*x"
      ]
     },
     "execution_count": 7,
     "metadata": {},
     "output_type": "execute_result"
    }
   ],
   "source": [
    "#mengintegralkan fungsi f1\n",
    "sy.integrate(f1)"
   ]
  },
  {
   "cell_type": "code",
   "execution_count": 8,
   "metadata": {},
   "outputs": [
    {
     "data": {
      "text/latex": [
       "$\\displaystyle 2 x^{4} + \\frac{x^{3}}{3} + \\frac{5 x^{2}}{2} + x$"
      ],
      "text/plain": [
       "2*x**4 + x**3/3 + 5*x**2/2 + x"
      ]
     },
     "execution_count": 8,
     "metadata": {},
     "output_type": "execute_result"
    }
   ],
   "source": [
    "#mengintegralkan fungsi f2\n",
    "sy.integrate(f2)"
   ]
  },
  {
   "cell_type": "code",
   "execution_count": 11,
   "metadata": {},
   "outputs": [
    {
     "data": {
      "text/plain": [
       "4.0"
      ]
     },
     "execution_count": 11,
     "metadata": {},
     "output_type": "execute_result"
    }
   ],
   "source": [
    "#mencoba f1 menggunakan dalam integral tertentu\n",
    "def integral_f1(x):\n",
    "  return (2/3)*3*x**2 - 6*x + 3\n",
    "\n",
    "#Integral tertentu dari f1(x) dari 2 - 3\n",
    "integral_f1(3) - integral_f1(2)"
   ]
  },
  {
   "cell_type": "code",
   "execution_count": 12,
   "metadata": {},
   "outputs": [
    {
     "data": {
      "text/plain": [
       "496.4"
      ]
     },
     "execution_count": 12,
     "metadata": {},
     "output_type": "execute_result"
    }
   ],
   "source": [
    "#mencoba f2 menggunakan dalam integral tertentu\n",
    "def integral_f2(x):\n",
    "  return (3/5)*8*x**3 + x**2 + 5*x +1\n",
    "\n",
    "#Integral tertentu dari f1(x) dari 3 - 5\n",
    "integral_f2(5) - integral_f2(3)"
   ]
  },
  {
   "cell_type": "markdown",
   "metadata": {},
   "source": [
    "## Numerik (fungsi)"
   ]
  },
  {
   "cell_type": "markdown",
   "metadata": {},
   "source": [
    "integral dalaam numerik terbagi atas numerik fungsi dan array. sebenarnya kedua metode tersebut digunakan untuk menghitung luas bagun tertntu tetapi untuk numerik fungsi berarti fungsi yang akan diintegralkan sudah ada sedangkan untuk numerik array fungsi tidak diketaui atau biasanya fungsinya berupa array."
   ]
  },
  {
   "cell_type": "code",
   "execution_count": 14,
   "metadata": {},
   "outputs": [
    {
     "name": "stdout",
     "output_type": "stream",
     "text": [
      "(7.0, 7.771561172376096e-14)\n"
     ]
    }
   ],
   "source": [
    "# integral numerik fungsi dari f1\n",
    "def f1(x):\n",
    "  return 3*x**2 - 6*x + 3\n",
    "  \n",
    "A = integrate.quad(f1,2,3)\n",
    "print(A)"
   ]
  },
  {
   "cell_type": "code",
   "execution_count": 15,
   "metadata": {},
   "outputs": [
    {
     "name": "stdout",
     "output_type": "stream",
     "text": [
      "(1162.6666666666667, 1.2908193032975154e-11)\n"
     ]
    }
   ],
   "source": [
    "# integral numerik fungsi dari f1\n",
    "def f2(x):\n",
    "  return 8*x**3 + x**2 + 5*x +1\n",
    "  \n",
    "B = integrate.quad(f2,3,5)\n",
    "print(B)"
   ]
  },
  {
   "cell_type": "markdown",
   "metadata": {},
   "source": [
    "## Numerik (array)"
   ]
  },
  {
   "cell_type": "code",
   "execution_count": 16,
   "metadata": {},
   "outputs": [
    {
     "data": {
      "text/plain": [
       "7.000208246563932"
      ]
     },
     "execution_count": 16,
     "metadata": {},
     "output_type": "execute_result"
    }
   ],
   "source": [
    "# integral numerik array dari f1\n",
    "def f1(x):\n",
    "  return 3*x**2 - 6*x + 3\n",
    "\n",
    "x = np.linspace(2,3)\n",
    "y = f1(x)\n",
    "\n",
    "a = integrate.trapz(y,x) #trapezoid\n",
    "a"
   ]
  },
  {
   "cell_type": "code",
   "execution_count": 17,
   "metadata": {},
   "outputs": [
    {
     "data": {
      "text/plain": [
       "1162.7205331112036"
      ]
     },
     "execution_count": 17,
     "metadata": {},
     "output_type": "execute_result"
    }
   ],
   "source": [
    "# integral numerik array dari f1\n",
    "def f2(x):\n",
    "  return 8*x**3 + x**2 + 5*x +1\n",
    "\n",
    "x = np.linspace(3,5)\n",
    "y = f2(x)\n",
    "\n",
    "b = integrate.trapz(y,x) #trapezoid\n",
    "b"
   ]
  },
  {
   "cell_type": "markdown",
   "metadata": {},
   "source": [
    "dapat dilihat perhitungan diatas, hasil luas dari fungsi f1 dan f2 menggunakan metode numerik fungsi dan numerik array memiliki nilai yang hampir sama yaitu\n",
    "f1 = 7.0 dan f2 = 1162.720"
   ]
  }
 ],
 "metadata": {
  "interpreter": {
   "hash": "b3ba2566441a7c06988d0923437866b63cedc61552a5af99d1f4fb67d367b25f"
  },
  "kernelspec": {
   "display_name": "Python 3.8.5 ('base')",
   "language": "python",
   "name": "python3"
  },
  "language_info": {
   "codemirror_mode": {
    "name": "ipython",
    "version": 3
   },
   "file_extension": ".py",
   "mimetype": "text/x-python",
   "name": "python",
   "nbconvert_exporter": "python",
   "pygments_lexer": "ipython3",
   "version": "3.8.5"
  },
  "orig_nbformat": 4
 },
 "nbformat": 4,
 "nbformat_minor": 2
}
