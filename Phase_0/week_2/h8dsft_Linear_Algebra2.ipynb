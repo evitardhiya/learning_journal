{
 "cells": [
  {
   "cell_type": "markdown",
   "metadata": {},
   "source": [
    "# Non-graded Challenge 4"
   ]
  },
  {
   "cell_type": "code",
   "execution_count": 4,
   "metadata": {},
   "outputs": [],
   "source": [
    "import numpy as np"
   ]
  },
  {
   "cell_type": "markdown",
   "metadata": {},
   "source": [
    "1.  Buatlah Tensor di bawah ini dengan Python:\n"
   ]
  },
  {
   "cell_type": "code",
   "execution_count": 12,
   "metadata": {},
   "outputs": [
    {
     "data": {
      "text/plain": [
       "array([[[[23, 50],\n",
       "         [ 7, 12]],\n",
       "\n",
       "        [[57, 67],\n",
       "         [99, 43]]],\n",
       "\n",
       "\n",
       "       [[[75, 21],\n",
       "         [57, 12]],\n",
       "\n",
       "        [[87, 26],\n",
       "         [18, 24]]]])"
      ]
     },
     "execution_count": 12,
     "metadata": {},
     "output_type": "execute_result"
    }
   ],
   "source": [
    "#Tensor\n",
    "T = np.array([\n",
    "    [[[23,50], [7, 12]], \n",
    "    [[57, 67], [99, 43]]],\n",
    "    [[[75, 21], [57, 12]],\n",
    "    [[87, 26], [18, 24]]]])\n",
    "    \n",
    "T"
   ]
  },
  {
   "cell_type": "markdown",
   "metadata": {},
   "source": [
    "2. Lakukan perkalian terhadap matrix berikut: \n",
    "    \n",
    "    𝐴= 23 50 19 \n",
    "\n",
    "        7 12 109 \n",
    "\n",
    "        57 67 98 \n",
    "        \n",
    "    𝐵= 17\n",
    "\n",
    "        22\n",
    "        \n",
    "        19\n"
   ]
  },
  {
   "cell_type": "code",
   "execution_count": 6,
   "metadata": {},
   "outputs": [],
   "source": [
    "#memasukkan matriks dalam variabel A dan B\n",
    "A = np.array([[23, 50, 19],\n",
    "            [7, 12, 109],\n",
    "            [57, 67, 98]])\n",
    "\n",
    "B = np.array([[17],\n",
    "            [22],\n",
    "            [19]])"
   ]
  },
  {
   "cell_type": "code",
   "execution_count": 7,
   "metadata": {},
   "outputs": [
    {
     "data": {
      "text/plain": [
       "array([[1852],\n",
       "       [2454],\n",
       "       [4305]])"
      ]
     },
     "execution_count": 7,
     "metadata": {},
     "output_type": "execute_result"
    }
   ],
   "source": [
    "#perkalian antar matriks\n",
    "C = A @ B\n",
    "C"
   ]
  },
  {
   "cell_type": "markdown",
   "metadata": {},
   "source": [
    "3. Lakukan Transpose, hitung determinan, dan inverse terhadap matrix dibawah ini: "
   ]
  },
  {
   "cell_type": "code",
   "execution_count": 8,
   "metadata": {},
   "outputs": [
    {
     "data": {
      "text/plain": [
       "array([[ 23,  50,  19],\n",
       "       [  7,  12, 109],\n",
       "       [ 57,  67,  98]])"
      ]
     },
     "execution_count": 8,
     "metadata": {},
     "output_type": "execute_result"
    }
   ],
   "source": [
    "A"
   ]
  },
  {
   "cell_type": "code",
   "execution_count": 9,
   "metadata": {},
   "outputs": [
    {
     "data": {
      "text/plain": [
       "array([[ 23,   7,  57],\n",
       "       [ 50,  12,  67],\n",
       "       [ 19, 109,  98]])"
      ]
     },
     "execution_count": 9,
     "metadata": {},
     "output_type": "execute_result"
    }
   ],
   "source": [
    "#transpose\n",
    "A.T"
   ]
  },
  {
   "cell_type": "code",
   "execution_count": 10,
   "metadata": {},
   "outputs": [
    {
     "data": {
      "text/plain": [
       "131344.0000000002"
      ]
     },
     "execution_count": 10,
     "metadata": {},
     "output_type": "execute_result"
    }
   ],
   "source": [
    "#determinan\n",
    "np.linalg.det(A)"
   ]
  },
  {
   "cell_type": "code",
   "execution_count": 11,
   "metadata": {},
   "outputs": [
    {
     "data": {
      "text/plain": [
       "array([[-0.0466485 , -0.02761451,  0.03975819],\n",
       "       [ 0.04208034,  0.00891552, -0.01807467],\n",
       "       [-0.00163692,  0.0099662 , -0.00056341]])"
      ]
     },
     "execution_count": 11,
     "metadata": {},
     "output_type": "execute_result"
    }
   ],
   "source": [
    "#invers\n",
    "np.linalg.inv(A)"
   ]
  }
 ],
 "metadata": {
  "interpreter": {
   "hash": "b3ba2566441a7c06988d0923437866b63cedc61552a5af99d1f4fb67d367b25f"
  },
  "kernelspec": {
   "display_name": "Python 3.8.5 ('base')",
   "language": "python",
   "name": "python3"
  },
  "language_info": {
   "codemirror_mode": {
    "name": "ipython",
    "version": 3
   },
   "file_extension": ".py",
   "mimetype": "text/x-python",
   "name": "python",
   "nbconvert_exporter": "python",
   "pygments_lexer": "ipython3",
   "version": "3.8.5"
  },
  "orig_nbformat": 4
 },
 "nbformat": 4,
 "nbformat_minor": 2
}
