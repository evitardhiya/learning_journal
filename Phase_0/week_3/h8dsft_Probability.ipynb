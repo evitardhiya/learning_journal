{
  "nbformat": 4,
  "nbformat_minor": 0,
  "metadata": {
    "colab": {
      "name": "h8dsft_Probability.ipynb",
      "provenance": []
    },
    "kernelspec": {
      "name": "python3",
      "display_name": "Python 3"
    },
    "language_info": {
      "name": "python"
    }
  },
  "cells": [
    {
      "cell_type": "code",
      "execution_count": null,
      "metadata": {
        "colab": {
          "base_uri": "https://localhost:8080/",
          "height": 374
        },
        "id": "0fV3XD-YixBq",
        "outputId": "82a65c7c-ec43-4679-eb73-05db495fcf3c"
      },
      "outputs": [
        {
          "output_type": "stream",
          "name": "stdout",
          "text": [
            "[25012, 24988]\n"
          ]
        },
        {
          "output_type": "display_data",
          "data": {
            "text/plain": [
              "<Figure size 432x432 with 1 Axes>"
            ],
            "image/png": "[encoded data removed]"
          },
          "metadata": {}
        }
      ],
      "source": [
        "%matplotlib inline\n",
        "from matplotlib import pyplot as plt\n",
        "import random\n",
        "\n",
        "# membuat list untuk heads dan tails\n",
        "heads_tails = [0,0]\n",
        "\n",
        "# looping 50000\n",
        "trials = 50000\n",
        "trial = 0\n",
        "while trial < trials:\n",
        "    trial = trial + 1\n",
        "    # random 0 dan 1\n",
        "    toss = random.randint(0,1)\n",
        "    # menambahkan kedalam toss\n",
        "    heads_tails[toss] = heads_tails[toss] + 1\n",
        "\n",
        "print(heads_tails)\n",
        "\n",
        "# pie chart\n",
        "plt.figure(figsize=(6,6))\n",
        "plt.pie(heads_tails, labels=['heads', 'tails'])\n",
        "plt.legend()\n",
        "plt.show()"
      ]
    },
    {
      "cell_type": "code",
      "source": [
        ""
      ],
      "metadata": {
        "id": "3ZLzChsQjinb"
      },
      "execution_count": null,
      "outputs": []
    }
  ]
}