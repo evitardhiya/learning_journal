{
 "cells": [
  {
   "cell_type": "markdown",
   "metadata": {},
   "source": [
    "## Non-graded Challenge 2"
   ]
  },
  {
   "cell_type": "code",
   "execution_count": 27,
   "metadata": {},
   "outputs": [
    {
     "name": "stdout",
     "output_type": "stream",
     "text": [
      "100 kelvin adalah -173 celcius\n"
     ]
    }
   ],
   "source": [
    "#function untuk mengubah suhu dari kelvin ke celcius\n",
    "def kelvin_to_celcius(suhu):\n",
    "    cel = suhu - 273\n",
    "    return cel\n",
    "\n",
    "#membuat input dari parameter\n",
    "temperatur = int(input('Masukkan suhu:'))\n",
    "\n",
    "#menampilkan dan memanggil function yang telah dibuat\n",
    "print(f'{temperatur} kelvin adalah {kelvin_to_celcius(suhu=suhu)} celcius')"
   ]
  },
  {
   "cell_type": "code",
   "execution_count": 28,
   "metadata": {},
   "outputs": [
    {
     "name": "stdout",
     "output_type": "stream",
     "text": [
      "20 celcius adalah 373 kelvin\n"
     ]
    }
   ],
   "source": [
    "#function untuk mengubah suhu dari celcius ke kelvin\n",
    "def celcius_to_kelvin(suhu):\n",
    "    kel = suhu + 273\n",
    "    return kel\n",
    "\n",
    "#membuat input dari parameter\n",
    "temperatur = int(input('Masukkan suhu:'))\n",
    "\n",
    "#menampilkan dan memanggil function yang telah dibuat\n",
    "print(f'{temperatur} celcius adalah {celcius_to_kelvin(suhu=suhu)} kelvin')"
   ]
  },
  {
   "cell_type": "code",
   "execution_count": 2,
   "metadata": {},
   "outputs": [
    {
     "ename": "ValueError",
     "evalue": "invalid literal for int() with base 10: 'C'",
     "output_type": "error",
     "traceback": [
      "\u001b[1;31m---------------------------------------------------------------------------\u001b[0m",
      "\u001b[1;31mValueError\u001b[0m                                Traceback (most recent call last)",
      "\u001b[1;32m<ipython-input-2-cc9d506f5a9d>\u001b[0m in \u001b[0;36m<module>\u001b[1;34m\u001b[0m\n\u001b[0;32m      7\u001b[0m         \u001b[1;32mreturn\u001b[0m \u001b[0mkel\u001b[0m\u001b[1;33m\u001b[0m\u001b[1;33m\u001b[0m\u001b[0m\n\u001b[0;32m      8\u001b[0m \u001b[1;33m\u001b[0m\u001b[0m\n\u001b[1;32m----> 9\u001b[1;33m \u001b[0mtemperatur\u001b[0m \u001b[1;33m=\u001b[0m \u001b[0mint\u001b[0m\u001b[1;33m(\u001b[0m\u001b[0minput\u001b[0m\u001b[1;33m(\u001b[0m\u001b[1;34m'Masukkan suhu:'\u001b[0m\u001b[1;33m)\u001b[0m\u001b[1;33m)\u001b[0m\u001b[1;33m\u001b[0m\u001b[1;33m\u001b[0m\u001b[0m\n\u001b[0m\u001b[0;32m     10\u001b[0m \u001b[1;33m\u001b[0m\u001b[0m\n\u001b[0;32m     11\u001b[0m \u001b[0mprint\u001b[0m\u001b[1;33m(\u001b[0m\u001b[1;34mf'{konversi_fahrenheit(suhu=suhu)}'\u001b[0m\u001b[1;33m)\u001b[0m\u001b[1;33m\u001b[0m\u001b[1;33m\u001b[0m\u001b[0m\n",
      "\u001b[1;31mValueError\u001b[0m: invalid literal for int() with base 10: 'C'"
     ]
    }
   ],
   "source": [
    "def konversi_fahrenheit(suhu):\n",
    "    cel = (9/5 * suhu) + 32\n",
    "    kel = (9/5) * (suhu -273) + 32\n",
    "    if suhu == 'C':\n",
    "        return cel\n",
    "    elif suhu == 'K':\n",
    "        return kel\n",
    "\n",
    "temperatur = int(input('Masukkan suhu:'))\n",
    "\n",
    "print(f'{konversi_fahrenheit(suhu=suhu)}')"
   ]
  },
  {
   "cell_type": "code",
   "execution_count": 25,
   "metadata": {},
   "outputs": [
    {
     "name": "stdout",
     "output_type": "stream",
     "text": [
      "100 celcius adalah 212.0 fahrenheit\n",
      "100 kelvin adalah -279.40000000000003 fahrenheit\n"
     ]
    }
   ],
   "source": [
    "#function mengubah dari celcius ke fahrenheit\n",
    "def celcius_to_fahrenheit(suhu):\n",
    "    cel = (9/5 * suhu) + 32\n",
    "    return cel\n",
    "\n",
    "#funtion mengubah dari kelvin ke fahrenheit\n",
    "def kelvin_to_fahrenheit(suhu):\n",
    "    kel = (9/5) * (suhu -273) + 32\n",
    "    return kel\n",
    "\n",
    "#membuat input dari parameter\n",
    "temperatur = int(input('Masukkan suhu:'))\n",
    "\n",
    "#menampilkan dan memanggil function yang telah dibuat\n",
    "print(f'{temperatur} celcius adalah {celcius_to_fahrenheit(suhu=suhu)} fahrenheit')\n",
    "print(f'{temperatur} kelvin adalah {kelvin_to_fahrenheit(suhu=suhu)} fahrenheit')"
   ]
  }
 ],
 "metadata": {
  "interpreter": {
   "hash": "b3ba2566441a7c06988d0923437866b63cedc61552a5af99d1f4fb67d367b25f"
  },
  "kernelspec": {
   "display_name": "Python 3.8.5 ('base')",
   "language": "python",
   "name": "python3"
  },
  "language_info": {
   "codemirror_mode": {
    "name": "ipython",
    "version": 3
   },
   "file_extension": ".py",
   "mimetype": "text/x-python",
   "name": "python",
   "nbconvert_exporter": "python",
   "pygments_lexer": "ipython3",
   "version": "3.8.5"
  },
  "orig_nbformat": 4
 },
 "nbformat": 4,
 "nbformat_minor": 2
}
